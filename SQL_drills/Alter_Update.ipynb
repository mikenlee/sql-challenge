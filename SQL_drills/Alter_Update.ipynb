{
 "cells": [
  {
   "cell_type": "markdown",
   "metadata": {},
   "source": [
    "# ***Part 1***"
   ]
  },
  {
   "cell_type": "markdown",
   "metadata": {},
   "source": [
    "- ***Alter***\n",
    "\n",
    "Modifies the structure of a table: add a column, delete a column, change column data type, rename column/table\n",
    "\n",
    "- ***Update***\n",
    "\n",
    "Modifies data in a table"
   ]
  },
  {
   "cell_type": "markdown",
   "metadata": {},
   "source": [
    "# ***Part 2*** "
   ]
  },
  {
   "cell_type": "markdown",
   "metadata": {},
   "source": [
    "ALTER TABLE table_name\n",
    "\n",
    "RENAME COLUMN department_id\n",
    "\n",
    "TO dept_id;\n",
    "\n",
    "\n",
    "ALTER TABLE table_name\n",
    "\n",
    "ADD COLUMN annual_salary;\n"
   ]
  }
 ],
 "metadata": {
  "kernelspec": {
   "display_name": "Python 3",
   "language": "python",
   "name": "python3"
  },
  "language_info": {
   "codemirror_mode": {
    "name": "ipython",
    "version": 3
   },
   "file_extension": ".py",
   "mimetype": "text/x-python",
   "name": "python",
   "nbconvert_exporter": "python",
   "pygments_lexer": "ipython3",
   "version": "3.8.3"
  }
 },
 "nbformat": 4,
 "nbformat_minor": 4
}
