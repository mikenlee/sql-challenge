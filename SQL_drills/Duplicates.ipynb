{
 "cells": [
  {
   "cell_type": "markdown",
   "metadata": {},
   "source": [
    "# Part 1 "
   ]
  },
  {
   "cell_type": "markdown",
   "metadata": {},
   "source": [
    "SELECT \n",
    "    grams, count(*)\n",
    "\n",
    "FROM \n",
    "    vendor_table\n",
    "\n",
    "GROUP BY \n",
    "    grams\n",
    "\n",
    "HAVING count(*) > 1;\n"
   ]
  },
  {
   "cell_type": "markdown",
   "metadata": {},
   "source": [
    "## Part 2"
   ]
  },
  {
   "cell_type": "markdown",
   "metadata": {},
   "source": [
    "SELECT \n",
    "    grams, yarn_name, count(*)\n",
    "    \n",
    "FROM \n",
    "    vendor_table\n",
    "    \n",
    "GROUP BY \n",
    "    grams, yarn_name\n",
    "    \n",
    "HAVING count(*) > 1;\n",
    "\n",
    "\n"
   ]
  }
 ],
 "metadata": {
  "kernelspec": {
   "display_name": "Python 3",
   "language": "python",
   "name": "python3"
  },
  "language_info": {
   "codemirror_mode": {
    "name": "ipython",
    "version": 3
   },
   "file_extension": ".py",
   "mimetype": "text/x-python",
   "name": "python",
   "nbconvert_exporter": "python",
   "pygments_lexer": "ipython3",
   "version": "3.8.3"
  }
 },
 "nbformat": 4,
 "nbformat_minor": 4
}
