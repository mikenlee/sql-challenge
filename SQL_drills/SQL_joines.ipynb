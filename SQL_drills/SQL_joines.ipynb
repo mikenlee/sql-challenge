{
 "cells": [
  {
   "cell_type": "markdown",
   "metadata": {},
   "source": [
    "# ***SQL Joins***"
   ]
  },
  {
   "cell_type": "markdown",
   "metadata": {},
   "source": [
    "## ***Part 1***"
   ]
  },
  {
   "cell_type": "markdown",
   "metadata": {},
   "source": [
    "- ***Left Join***\n",
    "\n",
    "The rows where there isn't a matched value with the SECOND table will result in a null value for those columns from the second table.\n",
    "\n",
    "- ***Right Join***\n",
    "\n",
    "The rows where there isn't a matched value with the FIRST table will result in a null value for those columns fromt the first table.\n",
    "\n",
    "- ***Inner Join***\n",
    "\n",
    "This results in a table that with all of the table column values of the matched row values between two tables.\n",
    "\n",
    "- ***Full Outer Join***\n",
    "\n",
    "Results in a set that contains all columns from both tables and null values where there isn't a matched value.\n",
    "\n",
    "- ***Cross Join***\n",
    "\n",
    "Returns a set that captures every single pair combination between the values in two tables. \n",
    "\n",
    "- ***Natural Join***\n",
    "\n",
    "Returns a set that joins on a common column name between two tables. \n",
    "\n",
    "- ***Self Join***\n",
    "\n",
    "A join that references the same table to \"query hierarchical data or compare rows within the same table.\" \n",
    "\n"
   ]
  },
  {
   "cell_type": "markdown",
   "metadata": {},
   "source": [
    "## ***Part 2***\n",
    "\n",
    "Left Join"
   ]
  }
 ],
 "metadata": {
  "kernelspec": {
   "display_name": "Python 3",
   "language": "python",
   "name": "python3"
  },
  "language_info": {
   "codemirror_mode": {
    "name": "ipython",
    "version": 3
   },
   "file_extension": ".py",
   "mimetype": "text/x-python",
   "name": "python",
   "nbconvert_exporter": "python",
   "pygments_lexer": "ipython3",
   "version": "3.8.3"
  }
 },
 "nbformat": 4,
 "nbformat_minor": 4
}
